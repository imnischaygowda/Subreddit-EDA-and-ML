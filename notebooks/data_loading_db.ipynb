{
 "cells": [
  {
   "cell_type": "code",
   "execution_count": 36,
   "metadata": {},
   "outputs": [],
   "source": [
    "\n",
    "from reddit_data_scraping import *\n",
    "import pandas as pd\n",
    "import sqlalchemy\n",
    "from sqlalchemy.orm import sessionmaker\n",
    "import requests\n",
    "import json\n",
    "import sqlite3\n",
    "import datetime\n"
   ]
  },
  {
   "cell_type": "code",
   "execution_count": 37,
   "metadata": {},
   "outputs": [
    {
     "name": "stdout",
     "output_type": "stream",
     "text": [
      "Index(['id', 'created', 'author', 'title', 'body', 'url', 'score', 'comments'], dtype='object')\n"
     ]
    }
   ],
   "source": [
    "# input parameters.\n",
    "SUBREDDIT = 'askreddit'\n",
    "LIMIT = 100\n",
    "TIMEFRAME = 'all'\n",
    "LISTING = 'top'\n",
    "\n",
    "# database\n",
    "DATABASE_LOCATION = \"sqlite:///subreddit_data.sqlite\"\n",
    "\n",
    "if __name__ == \"__main__\":\n",
    "    r = get_subreddit_data(SUBREDDIT, LISTING, LIMIT, TIMEFRAME)\n",
    "    main_data = get_data_in_dataframe(r)\n",
    "    print(main_data.columns)\n",
    "    \n",
    "    \n",
    "    # # giving the format of datetime\n",
    "    # format = \"%Y-%m-%d\"\n",
    "\n",
    "    # # convert float UTC to Date.\n",
    "    # main_data['created_date'] = datetime.datetime.fromtimestamp(main_data['created_date_utc']).strftime(format)\n",
    "    # main_data = main_data[['id', 'created_date_utc', 'created_date', 'subreddit_id', 'title', 'body', 'url','score', 'comments']]\n",
    "\n",
    "    # # Loading to database\n",
    "    # engine = sqlalchemy.create_engine(DATABASE_LOCATION)\n",
    "    # conn = sqlite3.connect('subreddit_data.sqlite')\n",
    "    # cursor = conn.cursor()\n",
    "    \n",
    "    # # SQL query to create subreddit data.\n",
    "    # sql_query = ''' \n",
    "    #             CREATE TABLE IF NOT EXISTS subreddit_top_data(\n",
    "    #                 ID VARCHAR(200),\n",
    "    #                 CREATED_DATE_UTC VARCHAR(200),\n",
    "    #                 CREATED_DATE VARCHAR(200),\n",
    "    #                 SUBREDDIT_ID VARCHAR(200),\n",
    "    #                 POST_TITLE VARCHAR(200),\n",
    "    #                 POST_BODY VARCHAR(200),\n",
    "    #                 POST_URL VARCHAR(200),\n",
    "    #                 POST_KARMA INTEGER, \n",
    "    #                 POST_COMMENTS VARCHAR(200)                \n",
    "    #             )\n",
    "    #             '''\n",
    "                \n",
    "    # cursor.execute(sql_query)\n",
    "    # print('Opened DB successful')\n",
    "    \n",
    "    # try:\n",
    "    #     main_data.to_sql('subreddit_data', engine, index = False, if_exists = 'append')\n",
    "    # except:\n",
    "    #     print('Data alredy exists')\n"
   ]
  },
  {
   "cell_type": "code",
   "execution_count": null,
   "metadata": {},
   "outputs": [],
   "source": []
  }
 ],
 "metadata": {
  "kernelspec": {
   "display_name": "peoject_2_subreddit",
   "language": "python",
   "name": "python3"
  },
  "language_info": {
   "codemirror_mode": {
    "name": "ipython",
    "version": 3
   },
   "file_extension": ".py",
   "mimetype": "text/x-python",
   "name": "python",
   "nbconvert_exporter": "python",
   "pygments_lexer": "ipython3",
   "version": "3.6.13"
  },
  "orig_nbformat": 4,
  "vscode": {
   "interpreter": {
    "hash": "d1d2e16babf7a0670260ab185b9bba551e6e5605eea3db5455568b60ff7ec34f"
   }
  }
 },
 "nbformat": 4,
 "nbformat_minor": 2
}
